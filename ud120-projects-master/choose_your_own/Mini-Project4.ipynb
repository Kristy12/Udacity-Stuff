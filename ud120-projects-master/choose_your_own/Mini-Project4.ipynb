{
 "cells": [
  {
   "cell_type": "markdown",
   "metadata": {},
   "source": [
    "## Mini-Project 4"
   ]
  },
  {
   "cell_type": "code",
   "execution_count": 13,
   "metadata": {},
   "outputs": [],
   "source": [
    "%matplotlib inline"
   ]
  },
  {
   "cell_type": "code",
   "execution_count": 14,
   "metadata": {},
   "outputs": [],
   "source": [
    "def accuracyClass(pred,labels_test):\n",
    "    from sklearn.metrics import accuracy_score\n",
    "    return accuracy_score(pred,labels_test)"
   ]
  },
  {
   "cell_type": "code",
   "execution_count": 4,
   "metadata": {},
   "outputs": [],
   "source": [
    "# %load class_vis.py\n",
    "#!/usr/bin/python\n",
    "\n",
    "import numpy as np\n",
    "import matplotlib.pyplot as plt\n",
    "import pylab as pl\n",
    "\n",
    "def prettyPicture(clf, X_test, y_test):\n",
    "    x_min = 0.0; x_max = 1.0\n",
    "    y_min = 0.0; y_max = 1.0\n",
    "    \n",
    "    # Plot the decision boundary. For that, we will assign a color to each\n",
    "    # point in the mesh [x_min, m_max]x[y_min, y_max].\n",
    "    h = .01  # step size in the mesh\n",
    "    xx, yy = np.meshgrid(np.arange(x_min, x_max, h), np.arange(y_min, y_max, h))\n",
    "    Z = clf.predict(np.c_[xx.ravel(), yy.ravel()])\n",
    "\n",
    "    # Put the result into a color plot\n",
    "    Z = Z.reshape(xx.shape)\n",
    "    plt.xlim(xx.min(), xx.max())\n",
    "    plt.ylim(yy.min(), yy.max())\n",
    "\n",
    "    plt.pcolormesh(xx, yy, Z, cmap=pl.cm.seismic)\n",
    "\n",
    "    # Plot also the test points\n",
    "    grade_sig = [X_test[ii][0] for ii in range(0, len(X_test)) if y_test[ii]==0]\n",
    "    bumpy_sig = [X_test[ii][1] for ii in range(0, len(X_test)) if y_test[ii]==0]\n",
    "    grade_bkg = [X_test[ii][0] for ii in range(0, len(X_test)) if y_test[ii]==1]\n",
    "    bumpy_bkg = [X_test[ii][1] for ii in range(0, len(X_test)) if y_test[ii]==1]\n",
    "\n",
    "    plt.scatter(grade_sig, bumpy_sig, color = \"b\", label=\"fast\")\n",
    "    plt.scatter(grade_bkg, bumpy_bkg, color = \"r\", label=\"slow\")\n",
    "    plt.legend()\n",
    "    plt.xlabel(\"bumpiness\")\n",
    "    plt.ylabel(\"grade\")\n",
    "\n",
    "    plt.savefig(\"test.png\")\n",
    "\n",
    "import base64\n",
    "import json\n",
    "import subprocess\n",
    "\n",
    "def output_image(name, format, bytes):\n",
    "    image_start = \"BEGIN_IMAGE_f9825uweof8jw9fj4r8\"\n",
    "    image_end = \"END_IMAGE_0238jfw08fjsiufhw8frs\"\n",
    "    data = {}\n",
    "    data['name'] = name\n",
    "    data['format'] = format\n",
    "    data['bytes'] = base64.encodestring(bytes)\n",
    "    print image_start+json.dumps(data)+image_end"
   ]
  },
  {
   "cell_type": "code",
   "execution_count": 6,
   "metadata": {},
   "outputs": [],
   "source": [
    "# %load prep_terrain_data\n",
    "#!/usr/bin/python\n",
    "import random\n",
    "\n",
    "\n",
    "def makeTerrainData(n_points=1000):\n",
    "###############################################################################\n",
    "### make the toy dataset\n",
    "    random.seed(42)\n",
    "    grade = [random.random() for ii in range(0,n_points)]\n",
    "    bumpy = [random.random() for ii in range(0,n_points)]\n",
    "    error = [random.random() for ii in range(0,n_points)]\n",
    "    y = [round(grade[ii]*bumpy[ii]+0.3+0.1*error[ii]) for ii in range(0,n_points)]\n",
    "    for ii in range(0, len(y)):\n",
    "        if grade[ii]>0.8 or bumpy[ii]>0.8:\n",
    "            y[ii] = 1.0\n",
    "\n",
    "### split into train/test sets\n",
    "    X = [[gg, ss] for gg, ss in zip(grade, bumpy)]\n",
    "    split = int(0.75*n_points)\n",
    "    X_train = X[0:split]\n",
    "    X_test  = X[split:]\n",
    "    y_train = y[0:split]\n",
    "    y_test  = y[split:]\n",
    "\n",
    "    grade_sig = [X_train[ii][0] for ii in range(0, len(X_train)) if y_train[ii]==0]\n",
    "    bumpy_sig = [X_train[ii][1] for ii in range(0, len(X_train)) if y_train[ii]==0]\n",
    "    grade_bkg = [X_train[ii][0] for ii in range(0, len(X_train)) if y_train[ii]==1]\n",
    "    bumpy_bkg = [X_train[ii][1] for ii in range(0, len(X_train)) if y_train[ii]==1]\n",
    "\n",
    "    training_data = {\"fast\":{\"grade\":grade_sig, \"bumpiness\":bumpy_sig}\n",
    "            , \"slow\":{\"grade\":grade_bkg, \"bumpiness\":bumpy_bkg}}\n",
    "\n",
    "\n",
    "    grade_sig = [X_test[ii][0] for ii in range(0, len(X_test)) if y_test[ii]==0]\n",
    "    bumpy_sig = [X_test[ii][1] for ii in range(0, len(X_test)) if y_test[ii]==0]\n",
    "    grade_bkg = [X_test[ii][0] for ii in range(0, len(X_test)) if y_test[ii]==1]\n",
    "    bumpy_bkg = [X_test[ii][1] for ii in range(0, len(X_test)) if y_test[ii]==1]\n",
    "\n",
    "    test_data = {\"fast\":{\"grade\":grade_sig, \"bumpiness\":bumpy_sig}\n",
    "            , \"slow\":{\"grade\":grade_bkg, \"bumpiness\":bumpy_bkg}}\n",
    "\n",
    "    return X_train, y_train, X_test, y_test"
   ]
  },
  {
   "cell_type": "code",
   "execution_count": 22,
   "metadata": {},
   "outputs": [
    {
     "data": {
      "image/png": "[encoded data removed]"
     },
     "output_type": "display_data",
     "metadata": {}
    },
    {
     "name": "stdout",
     "output_type": "stream",
     "text": [
      "Using weight  uniform\n",
      "Accuracy for N= 5  is  0.92\n",
      "Accuracy for N= 10  is  0.932\n",
      "Accuracy for N= 11  is  0.932\n",
      "Accuracy for N= 12  is  0.932\n",
      "Accuracy for N= 13  is  0.936\n",
      "Accuracy for N= 14  is  0.928\n",
      "Accuracy for N= 15  is  0.928\n",
      "Accuracy for N= 17  is  0.928\n",
      "Accuracy for N= 19  is  0.928\n",
      "Accuracy for N= 20  is  0.936\n",
      "Accuracy for N= 21  is  0.928\n",
      "Accuracy for N= 23  is  0.932\n",
      "Accuracy for N= 25  is  0.932\n",
      "Accuracy for N= 30  is  0.928\n",
      "Using weight  distance\n",
      "Accuracy for N= 5  is  0.932\n",
      "Accuracy for N= 10  is  0.94\n",
      "Accuracy for N= 11  is  0.94\n",
      "Accuracy for N= 12  is  0.932\n",
      "Accuracy for N= 13  is  0.936\n",
      "Accuracy for N= 14  is  0.936\n",
      "Accuracy for N= 15  is  0.94\n",
      "Accuracy for N= 17  is  0.936\n",
      "Accuracy for N= 19  is  0.936\n",
      "Accuracy for N= 20  is  0.936\n",
      "Accuracy for N= 21  is  0.936\n",
      "Accuracy for N= 23  is  0.936\n",
      "Accuracy for N= 25  is  0.932\n",
      "Accuracy for N= 30  is  0.936\n"
     ]
    }
   ],
   "source": [
    "# %load your_algorithm.py\n",
    "#!/usr/bin/python\n",
    "\n",
    "import matplotlib.pyplot as plt\n",
    "\n",
    "features_train, labels_train, features_test, labels_test = makeTerrainData()\n",
    "\n",
    "\n",
    "### the training data (features_train, labels_train) have both \"fast\" and \"slow\" points mixed\n",
    "### in together--separate them so we can give them different colors in the scatterplot,\n",
    "### and visually identify them\n",
    "grade_fast = [features_train[ii][0] for ii in range(0, len(features_train)) if labels_train[ii]==0]\n",
    "bumpy_fast = [features_train[ii][1] for ii in range(0, len(features_train)) if labels_train[ii]==0]\n",
    "grade_slow = [features_train[ii][0] for ii in range(0, len(features_train)) if labels_train[ii]==1]\n",
    "bumpy_slow = [features_train[ii][1] for ii in range(0, len(features_train)) if labels_train[ii]==1]\n",
    "\n",
    "\n",
    "#### initial visualization\n",
    "plt.xlim(0.0, 1.0)\n",
    "plt.ylim(0.0, 1.0)\n",
    "plt.scatter(bumpy_fast, grade_fast, color = \"b\", label=\"fast\")\n",
    "plt.scatter(grade_slow, bumpy_slow, color = \"r\", label=\"slow\")\n",
    "plt.legend()\n",
    "plt.xlabel(\"bumpiness\")\n",
    "plt.ylabel(\"grade\")\n",
    "plt.show()\n",
    "#################################################################################\n",
    "\n",
    "\n",
    "### your code here!  name your classifier object clf if you want the \n",
    "### visualization code (prettyPicture) to show you the decision boundary\n",
    "\n",
    "# K Nearest Neighbors\n",
    "from sklearn import neighbors\n",
    "\n",
    "weight = ['uniform','distance']\n",
    "no_neighbors = [5,10,11,12,13,14,15,17,19,20,21,23,25,30]\n",
    "\n",
    "for W in weight:\n",
    "    print \"Using weight \", W\n",
    "    for N in no_neighbors:\n",
    "        clf = neighbors.KNeighborsClassifier(n_neighbors=N,weights=W)\n",
    "        clf.fit(features_train, labels_train)\n",
    "        pred = clf.predict(features_test)\n",
    "        print \"Accuracy for N=\",N,\" is \",accuracyClass(pred,labels_test)\n",
    "\n",
    "#try:\n",
    "#    prettyPicture(clf, features_test, labels_test)\n",
    "#except NameError:\n",
    "#    pass"
   ]
  },
  {
   "cell_type": "code",
   "execution_count": 33,
   "metadata": {},
   "outputs": [
    {
     "name": "stdout",
     "output_type": "stream",
     "text": [
      "Accuracy for number of estimators =  95  is  0.924\n",
      "Accuracy for number of estimators =  100  is  0.924\n",
      "Accuracy for number of estimators =  105  is  0.924\n",
      "Accuracy for number of estimators =  110  is  0.924\n",
      "Accuracy for number of estimators =  150  is  0.92\n",
      "Accuracy for number of estimators =  190  is  0.92\n",
      "Accuracy for number of estimators =  200  is  0.92\n"
     ]
    }
   ],
   "source": [
    "# AdaBoost\n",
    "from sklearn.ensemble import AdaBoostClassifier\n",
    "\n",
    "estimators = [95,100,105,110,150,190,200]\n",
    "\n",
    "for E in estimators:\n",
    "    clf = AdaBoostClassifier(n_estimators=E)\n",
    "    clf.fit(features_train, labels_train)\n",
    "    pred = clf.predict(features_test)\n",
    "    print \"Accuracy for number of estimators = \",E,\" is \",accuracyClass(pred,labels_test)\n",
    "\n",
    "#try:\n",
    "#    prettyPicture(clf, features_test, labels_test)\n",
    "#except NameError:\n",
    "#    pass"
   ]
  },
  {
   "cell_type": "code",
   "execution_count": 37,
   "metadata": {},
   "outputs": [
    {
     "name": "stdout",
     "output_type": "stream",
     "text": [
      "Accuracy for number of estimators =  1000  is  0.916\n",
      "Accuracy for number of estimators =  10000  is  0.92\n"
     ]
    }
   ],
   "source": [
    "# Random Forest\n",
    "from sklearn.ensemble import RandomForestClassifier\n",
    "\n",
    "estimators = [1000,10000]\n",
    "\n",
    "for E in estimators:\n",
    "    clf = RandomForestClassifier(n_estimators=E)\n",
    "    clf.fit(features_train, labels_train)\n",
    "    pred = clf.predict(features_test)\n",
    "    print \"Accuracy for number of estimators = \",E,\" is \", accuracyClass(pred,labels_test)\n",
    "\n",
    "#try:\n",
    "#    prettyPicture(clf, features_test, labels_test)\n",
    "#except NameError:\n",
    "#    pass"
   ]
  }
 ],
 "metadata": {
  "kernelspec": {
   "display_name": "Python 2",
   "language": "python",
   "name": "python2"
  },
  "language_info": {
   "codemirror_mode": {
    "name": "ipython",
    "version": 2.0
   },
   "file_extension": ".py",
   "mimetype": "text/x-python",
   "name": "python",
   "nbconvert_exporter": "python",
   "pygments_lexer": "ipython2",
   "version": "2.7.10"
  }
 },
 "nbformat": 4,
 "nbformat_minor": 0
}