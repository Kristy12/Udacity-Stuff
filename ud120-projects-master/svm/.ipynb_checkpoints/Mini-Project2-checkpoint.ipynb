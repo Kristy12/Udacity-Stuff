{
 "cells": [
  {
   "cell_type": "markdown",
   "metadata": {},
   "source": [
    "## Mini-Project 2"
   ]
  },
  {
   "cell_type": "code",
   "execution_count": null,
   "metadata": {
    "collapsed": false
   },
   "outputs": [],
   "source": [
    "%run svm_author_id.py"
   ]
  },
  {
   "cell_type": "code",
   "execution_count": null,
   "metadata": {
    "collapsed": false
   },
   "outputs": [],
   "source": [
    "%run svm_author_id.py"
   ]
  },
  {
   "cell_type": "code",
   "execution_count": null,
   "metadata": {
    "collapsed": false
   },
   "outputs": [],
   "source": [
    "%run svm_author_id.py"
   ]
  },
  {
   "cell_type": "code",
   "execution_count": null,
   "metadata": {
    "collapsed": false
   },
   "outputs": [],
   "source": [
    "%run svm_author_id.py"
   ]
  },
  {
   "cell_type": "code",
   "execution_count": 2,
   "metadata": {
    "collapsed": false
   },
   "outputs": [
    {
     "name": "stdout",
     "output_type": "stream",
     "text": [
      "no. of Chris training emails: 4406\n",
      "no. of Sara training emails: 4383\n",
      "87\n",
      "8789\n",
      "C =  10000.0\n",
      "training time:  0.031 s\n",
      "testing time:  2.372 s\n",
      "0.918420753214\n"
     ]
    }
   ],
   "source": [
    "# %load svm_author_id.py\n",
    "#!/usr/bin/python\n",
    "\n",
    "\"\"\" \n",
    "    this is the code to accompany the Lesson 2 (SVM) mini-project\n",
    "\n",
    "    use an SVM to identify emails from the Enron corpus by their authors\n",
    "    \n",
    "    Sara has label 0\n",
    "    Chris has label 1\n",
    "\n",
    "\"\"\"\n",
    "    \n",
    "import sys\n",
    "from time import time\n",
    "sys.path.append(\"../tools/\")\n",
    "from email_preprocess import preprocess\n",
    "\n",
    "\n",
    "### features_train and features_test are the features for the training\n",
    "### and testing datasets, respectively\n",
    "### labels_train and labels_test are the corresponding item labels\n",
    "features_train, features_test, labels_train, labels_test = preprocess()\n",
    "\n",
    "#features_train = features_train[:len(features_train)/100] \n",
    "#labels_train = labels_train[:len(labels_train)/100] \n",
    "print len(labels_train)\n",
    "print len(labels_test)\n",
    "#########################################################\n",
    "### your code goes here ###\n",
    "\n",
    "from sklearn import svm\n",
    "\n",
    "C_list = [10000.0]#[10.0,100.0,1000.0,10000.0]\n",
    "\n",
    "for C_val in C_list:\n",
    "    print \"C = \",C_val\n",
    "    clf = svm.SVC(C=C_val,kernel=\"rbf\")\n",
    "    to = time()\n",
    "    clf.fit(features_train, labels_train)\n",
    "    print \"training time: \",round(time()-to,3),\"s\"\n",
    "    t1 = time()\n",
    "    pred = clf.predict(features_test)\n",
    "    print \"testing time: \",round(time()-t1,3),\"s\"\n",
    "    from sklearn.metrics import accuracy_score\n",
    "    print accuracy_score(pred,labels_test)\n",
    "#########################################################\n",
    "\n",
    "\n"
   ]
  },
  {
   "cell_type": "code",
   "execution_count": null,
   "metadata": {
    "collapsed": false
   },
   "outputs": [],
   "source": [
    "print pred[10],\" \",pred[9]\n",
    "print pred[26],\" \",pred[25]\n",
    "print pred[50],\" \",pred[49]"
   ]
  },
  {
   "cell_type": "code",
   "execution_count": null,
   "metadata": {
    "collapsed": false
   },
   "outputs": [],
   "source": [
    "#list(pred)\n",
    "print len(pred)\n",
    "print \"Sarah: \",list(pred).count(0)\n",
    "print \"Chris: \",list(pred).count(1)"
   ]
  },
  {
   "cell_type": "code",
   "execution_count": null,
   "metadata": {
    "collapsed": false
   },
   "outputs": [],
   "source": [
    "print len(pred)\n",
    "print \"Sarah: \",list(pred).count(0)\n",
    "print \"Chris: \",list(pred).count(1)"
   ]
  }
 ],
 "metadata": {
  "kernelspec": {
   "display_name": "Python 2",
   "language": "python",
   "name": "python2"
  },
  "language_info": {
   "codemirror_mode": {
    "name": "ipython",
    "version": 2
   },
   "file_extension": ".py",
   "mimetype": "text/x-python",
   "name": "python",
   "nbconvert_exporter": "python",
   "pygments_lexer": "ipython2",
   "version": "2.7.10"
  }
 },
 "nbformat": 4,
 "nbformat_minor": 0
}
